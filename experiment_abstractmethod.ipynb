{
 "cells": [
  {
   "cell_type": "code",
   "execution_count": 1,
   "metadata": {},
   "outputs": [],
   "source": [
    "from abc import ABC, abstractmethod\n",
    "\n",
    "class BaseModel(ABC):\n",
    "    @abstractmethod\n",
    "    def train(self, X, y):\n",
    "        pass\n",
    "\n",
    "    @abstractmethod\n",
    "    def predict(self, X):\n",
    "        pass\n",
    "\n",
    "    @abstractmethod\n",
    "    def evaluate(self, X, y):\n",
    "        \"\"\"\n",
    "        返回模型评估分数（float）\n",
    "        \"\"\"\n",
    "        pass"
   ]
  },
  {
   "cell_type": "code",
   "execution_count": 2,
   "metadata": {},
   "outputs": [],
   "source": [
    "from sklearn.linear_model import LinearRegression\n",
    "from sklearn.metrics import mean_squared_error\n",
    "\n",
    "class LinearRegressionModel(BaseModel):\n",
    "    def __init__(self):\n",
    "        self.model = LinearRegression()\n",
    "\n",
    "    def train(self, X, y):\n",
    "        self.model.fit(X, y)\n",
    "\n",
    "    def predict(self, X):\n",
    "        return self.model.predict(X)\n",
    "\n",
    "    def evaluate(self, X, y):\n",
    "        preds = self.predict(X)\n",
    "        return mean_squared_error(y, preds)\n"
   ]
  },
  {
   "cell_type": "code",
   "execution_count": 3,
   "metadata": {},
   "outputs": [],
   "source": [
    "from sklearn.tree import DecisionTreeClassifier\n",
    "from sklearn.metrics import accuracy_score\n",
    "\n",
    "class DecisionTreeModel(BaseModel):\n",
    "    def __init__(self):\n",
    "        self.model = DecisionTreeClassifier()\n",
    "\n",
    "    def train(self, X, y):\n",
    "        self.model.fit(X, y)\n",
    "\n",
    "    def predict(self, X):\n",
    "        return self.model.predict(X)\n",
    "\n",
    "    def evaluate(self, X, y):\n",
    "        preds = self.predict(X)\n",
    "        return accuracy_score(y, preds)"
   ]
  },
  {
   "cell_type": "code",
   "execution_count": 4,
   "metadata": {},
   "outputs": [],
   "source": [
    "class ModelManager:\n",
    "    def __init__(self):\n",
    "        self.models = {}  # {\"Linear Regression\": model_instance, ...}\n",
    "        self.results = {}\n",
    "\n",
    "    def add_model(self, name: str, model: BaseModel):\n",
    "        self.models[name] = model\n",
    "\n",
    "    def train_all(self, X, y):\n",
    "        for name, model in self.models.items():\n",
    "            print(f\"正在训练模型：{name}\")\n",
    "            model.train(X, y)\n",
    "\n",
    "    def evaluate_all(self, X, y):\n",
    "        self.results = {}\n",
    "        for name, model in self.models.items():\n",
    "            score = model.evaluate(X, y)\n",
    "            self.results[name] = score\n",
    "            print(f\"{name} 评估得分: {score}\")\n",
    "\n",
    "    def compare_models(self):\n",
    "        print(\"\\n模型评分比较：\")\n",
    "        sorted_results = sorted(self.results.items(), key=lambda x: x[1], reverse=True)\n",
    "        for rank, (name, score) in enumerate(sorted_results, start=1):\n",
    "            print(f\"{rank}. {name} - 得分: {score}\")"
   ]
  },
  {
   "cell_type": "code",
   "execution_count": 5,
   "metadata": {},
   "outputs": [
    {
     "name": "stdout",
     "output_type": "stream",
     "text": [
      "正在训练模型：决策树\n",
      "正在训练模型：线性回归\n",
      "决策树 评估得分: 0.9333333333333333\n",
      "线性回归 评估得分: 0.05207839987689177\n",
      "\n",
      "模型评分比较：\n",
      "1. 决策树 - 得分: 0.9333333333333333\n",
      "2. 线性回归 - 得分: 0.05207839987689177\n"
     ]
    }
   ],
   "source": [
    "from sklearn.datasets import load_iris\n",
    "from sklearn.model_selection import train_test_split\n",
    "\n",
    "# 导入模型类\n",
    "# 假设你把所有类定义都放在同一个文件或模块里\n",
    "\n",
    "X, y = load_iris(return_X_y=True)\n",
    "X_train, X_test, y_train, y_test = train_test_split(X, y, test_size=0.3)\n",
    "\n",
    "# 创建管理器\n",
    "manager = ModelManager()\n",
    "\n",
    "# 添加模型\n",
    "manager.add_model(\"决策树\", DecisionTreeModel())\n",
    "manager.add_model(\"线性回归\", LinearRegressionModel())  # 注意这是回归模型，结果是MSE\n",
    "\n",
    "# 训练 & 评估 & 比较\n",
    "manager.train_all(X_train, y_train)\n",
    "manager.evaluate_all(X_test, y_test)\n",
    "manager.compare_models()\n"
   ]
  }
 ],
 "metadata": {
  "kernelspec": {
   "display_name": "base",
   "language": "python",
   "name": "python3"
  },
  "language_info": {
   "codemirror_mode": {
    "name": "ipython",
    "version": 3
   },
   "file_extension": ".py",
   "mimetype": "text/x-python",
   "name": "python",
   "nbconvert_exporter": "python",
   "pygments_lexer": "ipython3",
   "version": "3.11.8"
  }
 },
 "nbformat": 4,
 "nbformat_minor": 2
}
